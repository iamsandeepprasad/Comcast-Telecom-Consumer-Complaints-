{
  "nbformat": 4,
  "nbformat_minor": 0,
  "metadata": {
    "colab": {
      "name": "Comcast Telecom Consumer Complaints ",
      "provenance": [],
      "collapsed_sections": []
    },
    "kernelspec": {
      "name": "python3",
      "display_name": "Python 3"
    }
  },
  "cells": [
    {
      "cell_type": "code",
      "metadata": {
        "id": "qI1SCksexB6T",
        "colab_type": "code",
        "colab": {}
      },
      "source": [
        "import numpy as np\n",
        "import pandas as pd\n",
        "import matplotlib.pyplot as plt\n"
      ],
      "execution_count": null,
      "outputs": []
    },
    {
      "cell_type": "code",
      "metadata": {
        "id": "hzSklVCVxUw1",
        "colab_type": "code",
        "colab": {}
      },
      "source": [
        "data_path=\"/content/drive/My Drive/marrige/Comcast_telecom_complaints_data.csv\"\n",
        "data=pd.read_csv(data_path)"
      ],
      "execution_count": null,
      "outputs": []
    },
    {
      "cell_type": "code",
      "metadata": {
        "id": "mMoCm4DoxeUe",
        "colab_type": "code",
        "colab": {
          "base_uri": "https://localhost:8080/",
          "height": 228
        },
        "outputId": "672746d0-6069-4480-8dd7-514c7594575a"
      },
      "source": [
        "data.isnull().sum()#no null value identified"
      ],
      "execution_count": null,
      "outputs": [
        {
          "output_type": "execute_result",
          "data": {
            "text/plain": [
              "Ticket #                       0\n",
              "Customer Complaint             0\n",
              "Date                           0\n",
              "Date_month_year                0\n",
              "Time                           0\n",
              "Received Via                   0\n",
              "City                           0\n",
              "State                          0\n",
              "Zip code                       0\n",
              "Status                         0\n",
              "Filing on Behalf of Someone    0\n",
              "dtype: int64"
            ]
          },
          "metadata": {
            "tags": []
          },
          "execution_count": 3
        }
      ]
    },
    {
      "cell_type": "code",
      "metadata": {
        "id": "ZYtYaZk1xi6m",
        "colab_type": "code",
        "colab": {
          "base_uri": "https://localhost:8080/",
          "height": 313
        },
        "outputId": "0a4be775-b3a6-4e87-d73b-0e1e815920b9"
      },
      "source": [
        "data.head()"
      ],
      "execution_count": null,
      "outputs": [
        {
          "output_type": "execute_result",
          "data": {
            "text/html": [
              "<div>\n",
              "<style scoped>\n",
              "    .dataframe tbody tr th:only-of-type {\n",
              "        vertical-align: middle;\n",
              "    }\n",
              "\n",
              "    .dataframe tbody tr th {\n",
              "        vertical-align: top;\n",
              "    }\n",
              "\n",
              "    .dataframe thead th {\n",
              "        text-align: right;\n",
              "    }\n",
              "</style>\n",
              "<table border=\"1\" class=\"dataframe\">\n",
              "  <thead>\n",
              "    <tr style=\"text-align: right;\">\n",
              "      <th></th>\n",
              "      <th>Ticket #</th>\n",
              "      <th>Customer Complaint</th>\n",
              "      <th>Date</th>\n",
              "      <th>Date_month_year</th>\n",
              "      <th>Time</th>\n",
              "      <th>Received Via</th>\n",
              "      <th>City</th>\n",
              "      <th>State</th>\n",
              "      <th>Zip code</th>\n",
              "      <th>Status</th>\n",
              "      <th>Filing on Behalf of Someone</th>\n",
              "    </tr>\n",
              "  </thead>\n",
              "  <tbody>\n",
              "    <tr>\n",
              "      <th>0</th>\n",
              "      <td>250635</td>\n",
              "      <td>Comcast Cable Internet Speeds</td>\n",
              "      <td>22-04-15</td>\n",
              "      <td>22-Apr-15</td>\n",
              "      <td>3:53:50 PM</td>\n",
              "      <td>Customer Care Call</td>\n",
              "      <td>Abingdon</td>\n",
              "      <td>Maryland</td>\n",
              "      <td>21009</td>\n",
              "      <td>Closed</td>\n",
              "      <td>No</td>\n",
              "    </tr>\n",
              "    <tr>\n",
              "      <th>1</th>\n",
              "      <td>223441</td>\n",
              "      <td>Payment disappear - service got disconnected</td>\n",
              "      <td>04-08-15</td>\n",
              "      <td>04-Aug-15</td>\n",
              "      <td>10:22:56 AM</td>\n",
              "      <td>Internet</td>\n",
              "      <td>Acworth</td>\n",
              "      <td>Georgia</td>\n",
              "      <td>30102</td>\n",
              "      <td>Closed</td>\n",
              "      <td>No</td>\n",
              "    </tr>\n",
              "    <tr>\n",
              "      <th>2</th>\n",
              "      <td>242732</td>\n",
              "      <td>Speed and Service</td>\n",
              "      <td>18-04-15</td>\n",
              "      <td>18-Apr-15</td>\n",
              "      <td>9:55:47 AM</td>\n",
              "      <td>Internet</td>\n",
              "      <td>Acworth</td>\n",
              "      <td>Georgia</td>\n",
              "      <td>30101</td>\n",
              "      <td>Closed</td>\n",
              "      <td>Yes</td>\n",
              "    </tr>\n",
              "    <tr>\n",
              "      <th>3</th>\n",
              "      <td>277946</td>\n",
              "      <td>Comcast Imposed a New Usage Cap of 300GB that ...</td>\n",
              "      <td>05-07-15</td>\n",
              "      <td>05-Jul-15</td>\n",
              "      <td>11:59:35 AM</td>\n",
              "      <td>Internet</td>\n",
              "      <td>Acworth</td>\n",
              "      <td>Georgia</td>\n",
              "      <td>30101</td>\n",
              "      <td>Open</td>\n",
              "      <td>Yes</td>\n",
              "    </tr>\n",
              "    <tr>\n",
              "      <th>4</th>\n",
              "      <td>307175</td>\n",
              "      <td>Comcast not working and no service to boot</td>\n",
              "      <td>26-05-15</td>\n",
              "      <td>26-May-15</td>\n",
              "      <td>1:25:26 PM</td>\n",
              "      <td>Internet</td>\n",
              "      <td>Acworth</td>\n",
              "      <td>Georgia</td>\n",
              "      <td>30101</td>\n",
              "      <td>Solved</td>\n",
              "      <td>No</td>\n",
              "    </tr>\n",
              "  </tbody>\n",
              "</table>\n",
              "</div>"
            ],
            "text/plain": [
              "  Ticket #  ... Filing on Behalf of Someone\n",
              "0   250635  ...                          No\n",
              "1   223441  ...                          No\n",
              "2   242732  ...                         Yes\n",
              "3   277946  ...                         Yes\n",
              "4   307175  ...                          No\n",
              "\n",
              "[5 rows x 11 columns]"
            ]
          },
          "metadata": {
            "tags": []
          },
          "execution_count": 4
        }
      ]
    },
    {
      "cell_type": "markdown",
      "metadata": {
        "id": "20zGFbIz-YRB",
        "colab_type": "text"
      },
      "source": [
        "**adding another column Issue it  will help us to find toatal such cases**"
      ]
    },
    {
      "cell_type": "code",
      "metadata": {
        "id": "PA2qUWij9OT_",
        "colab_type": "code",
        "colab": {}
      },
      "source": [
        "total_issue=pd.DataFrame(np.ones(data.shape[0]))"
      ],
      "execution_count": null,
      "outputs": []
    },
    {
      "cell_type": "code",
      "metadata": {
        "id": "hmHsp_EJ-5IT",
        "colab_type": "code",
        "colab": {}
      },
      "source": [
        "data.insert(loc=0,value=total_issue,column=\"Issue\")"
      ],
      "execution_count": null,
      "outputs": []
    },
    {
      "cell_type": "markdown",
      "metadata": {
        "id": "AJDUfFW9_O-T",
        "colab_type": "text"
      },
      "source": [
        "**Converting the data_month_year to Date Month and Year**"
      ]
    },
    {
      "cell_type": "code",
      "metadata": {
        "id": "FRwKqmIk_OmF",
        "colab_type": "code",
        "colab": {}
      },
      "source": [
        "date=[]\n",
        "month=[]\n",
        "year=[]\n",
        "for sample in data.Date_month_year:\n",
        "  val=str(sample).split(\"-\")\n",
        "  date.append(int(val[0]))\n",
        "  month.append(val[1])\n",
        "  year.append(val[2])\n",
        "\n",
        "  \n"
      ],
      "execution_count": null,
      "outputs": []
    },
    {
      "cell_type": "code",
      "metadata": {
        "id": "Oa7LTwa5_JFN",
        "colab_type": "code",
        "colab": {
          "base_uri": "https://localhost:8080/",
          "height": 603
        },
        "outputId": "25a8383c-5f74-4510-8172-be3092b3d872"
      },
      "source": [
        "data.drop([\"Ticket #\"],axis=1,inplace=True)\n",
        "data"
      ],
      "execution_count": null,
      "outputs": [
        {
          "output_type": "execute_result",
          "data": {
            "text/html": [
              "<div>\n",
              "<style scoped>\n",
              "    .dataframe tbody tr th:only-of-type {\n",
              "        vertical-align: middle;\n",
              "    }\n",
              "\n",
              "    .dataframe tbody tr th {\n",
              "        vertical-align: top;\n",
              "    }\n",
              "\n",
              "    .dataframe thead th {\n",
              "        text-align: right;\n",
              "    }\n",
              "</style>\n",
              "<table border=\"1\" class=\"dataframe\">\n",
              "  <thead>\n",
              "    <tr style=\"text-align: right;\">\n",
              "      <th></th>\n",
              "      <th>Issue</th>\n",
              "      <th>Customer Complaint</th>\n",
              "      <th>Date</th>\n",
              "      <th>Date_month_year</th>\n",
              "      <th>Time</th>\n",
              "      <th>Received Via</th>\n",
              "      <th>City</th>\n",
              "      <th>State</th>\n",
              "      <th>Zip code</th>\n",
              "      <th>Status</th>\n",
              "      <th>Filing on Behalf of Someone</th>\n",
              "    </tr>\n",
              "  </thead>\n",
              "  <tbody>\n",
              "    <tr>\n",
              "      <th>0</th>\n",
              "      <td>1.0</td>\n",
              "      <td>Comcast Cable Internet Speeds</td>\n",
              "      <td>22-04-15</td>\n",
              "      <td>22-Apr-15</td>\n",
              "      <td>3:53:50 PM</td>\n",
              "      <td>Customer Care Call</td>\n",
              "      <td>Abingdon</td>\n",
              "      <td>Maryland</td>\n",
              "      <td>21009</td>\n",
              "      <td>Closed</td>\n",
              "      <td>No</td>\n",
              "    </tr>\n",
              "    <tr>\n",
              "      <th>1</th>\n",
              "      <td>1.0</td>\n",
              "      <td>Payment disappear - service got disconnected</td>\n",
              "      <td>04-08-15</td>\n",
              "      <td>04-Aug-15</td>\n",
              "      <td>10:22:56 AM</td>\n",
              "      <td>Internet</td>\n",
              "      <td>Acworth</td>\n",
              "      <td>Georgia</td>\n",
              "      <td>30102</td>\n",
              "      <td>Closed</td>\n",
              "      <td>No</td>\n",
              "    </tr>\n",
              "    <tr>\n",
              "      <th>2</th>\n",
              "      <td>1.0</td>\n",
              "      <td>Speed and Service</td>\n",
              "      <td>18-04-15</td>\n",
              "      <td>18-Apr-15</td>\n",
              "      <td>9:55:47 AM</td>\n",
              "      <td>Internet</td>\n",
              "      <td>Acworth</td>\n",
              "      <td>Georgia</td>\n",
              "      <td>30101</td>\n",
              "      <td>Closed</td>\n",
              "      <td>Yes</td>\n",
              "    </tr>\n",
              "    <tr>\n",
              "      <th>3</th>\n",
              "      <td>1.0</td>\n",
              "      <td>Comcast Imposed a New Usage Cap of 300GB that ...</td>\n",
              "      <td>05-07-15</td>\n",
              "      <td>05-Jul-15</td>\n",
              "      <td>11:59:35 AM</td>\n",
              "      <td>Internet</td>\n",
              "      <td>Acworth</td>\n",
              "      <td>Georgia</td>\n",
              "      <td>30101</td>\n",
              "      <td>Open</td>\n",
              "      <td>Yes</td>\n",
              "    </tr>\n",
              "    <tr>\n",
              "      <th>4</th>\n",
              "      <td>1.0</td>\n",
              "      <td>Comcast not working and no service to boot</td>\n",
              "      <td>26-05-15</td>\n",
              "      <td>26-May-15</td>\n",
              "      <td>1:25:26 PM</td>\n",
              "      <td>Internet</td>\n",
              "      <td>Acworth</td>\n",
              "      <td>Georgia</td>\n",
              "      <td>30101</td>\n",
              "      <td>Solved</td>\n",
              "      <td>No</td>\n",
              "    </tr>\n",
              "    <tr>\n",
              "      <th>...</th>\n",
              "      <td>...</td>\n",
              "      <td>...</td>\n",
              "      <td>...</td>\n",
              "      <td>...</td>\n",
              "      <td>...</td>\n",
              "      <td>...</td>\n",
              "      <td>...</td>\n",
              "      <td>...</td>\n",
              "      <td>...</td>\n",
              "      <td>...</td>\n",
              "      <td>...</td>\n",
              "    </tr>\n",
              "    <tr>\n",
              "      <th>2219</th>\n",
              "      <td>1.0</td>\n",
              "      <td>Service Availability</td>\n",
              "      <td>04-02-15</td>\n",
              "      <td>04-Feb-15</td>\n",
              "      <td>9:13:18 AM</td>\n",
              "      <td>Customer Care Call</td>\n",
              "      <td>Youngstown</td>\n",
              "      <td>Florida</td>\n",
              "      <td>32466</td>\n",
              "      <td>Closed</td>\n",
              "      <td>No</td>\n",
              "    </tr>\n",
              "    <tr>\n",
              "      <th>2220</th>\n",
              "      <td>1.0</td>\n",
              "      <td>Comcast Monthly Billing for Returned Modem</td>\n",
              "      <td>06-02-15</td>\n",
              "      <td>06-Feb-15</td>\n",
              "      <td>1:24:39 PM</td>\n",
              "      <td>Customer Care Call</td>\n",
              "      <td>Ypsilanti</td>\n",
              "      <td>Michigan</td>\n",
              "      <td>48197</td>\n",
              "      <td>Solved</td>\n",
              "      <td>No</td>\n",
              "    </tr>\n",
              "    <tr>\n",
              "      <th>2221</th>\n",
              "      <td>1.0</td>\n",
              "      <td>complaint about comcast</td>\n",
              "      <td>06-09-15</td>\n",
              "      <td>06-Sep-15</td>\n",
              "      <td>5:28:41 PM</td>\n",
              "      <td>Internet</td>\n",
              "      <td>Ypsilanti</td>\n",
              "      <td>Michigan</td>\n",
              "      <td>48197</td>\n",
              "      <td>Solved</td>\n",
              "      <td>No</td>\n",
              "    </tr>\n",
              "    <tr>\n",
              "      <th>2222</th>\n",
              "      <td>1.0</td>\n",
              "      <td>Extremely unsatisfied Comcast customer</td>\n",
              "      <td>23-06-15</td>\n",
              "      <td>23-Jun-15</td>\n",
              "      <td>11:13:30 PM</td>\n",
              "      <td>Customer Care Call</td>\n",
              "      <td>Ypsilanti</td>\n",
              "      <td>Michigan</td>\n",
              "      <td>48197</td>\n",
              "      <td>Solved</td>\n",
              "      <td>No</td>\n",
              "    </tr>\n",
              "    <tr>\n",
              "      <th>2223</th>\n",
              "      <td>1.0</td>\n",
              "      <td>Comcast, Ypsilanti MI Internet Speed</td>\n",
              "      <td>24-06-15</td>\n",
              "      <td>24-Jun-15</td>\n",
              "      <td>10:28:33 PM</td>\n",
              "      <td>Customer Care Call</td>\n",
              "      <td>Ypsilanti</td>\n",
              "      <td>Michigan</td>\n",
              "      <td>48198</td>\n",
              "      <td>Open</td>\n",
              "      <td>Yes</td>\n",
              "    </tr>\n",
              "  </tbody>\n",
              "</table>\n",
              "<p>2224 rows × 11 columns</p>\n",
              "</div>"
            ],
            "text/plain": [
              "      Issue  ... Filing on Behalf of Someone\n",
              "0       1.0  ...                          No\n",
              "1       1.0  ...                          No\n",
              "2       1.0  ...                         Yes\n",
              "3       1.0  ...                         Yes\n",
              "4       1.0  ...                          No\n",
              "...     ...  ...                         ...\n",
              "2219    1.0  ...                          No\n",
              "2220    1.0  ...                          No\n",
              "2221    1.0  ...                          No\n",
              "2222    1.0  ...                          No\n",
              "2223    1.0  ...                         Yes\n",
              "\n",
              "[2224 rows x 11 columns]"
            ]
          },
          "metadata": {
            "tags": []
          },
          "execution_count": 8
        }
      ]
    },
    {
      "cell_type": "code",
      "metadata": {
        "id": "Hzt6K9caARoW",
        "colab_type": "code",
        "colab": {}
      },
      "source": [
        "data.insert(loc=3,value=date,column=\"Dates\")\n",
        "data.insert(loc=4,value=month,column=\"Month\")\n",
        "data.insert(loc=5,value=year,column=\"Year\")\n"
      ],
      "execution_count": null,
      "outputs": []
    },
    {
      "cell_type": "code",
      "metadata": {
        "id": "6xBec212A_of",
        "colab_type": "code",
        "colab": {}
      },
      "source": [
        "data.drop([\"Date\"],axis=1,inplace=True)"
      ],
      "execution_count": null,
      "outputs": []
    },
    {
      "cell_type": "code",
      "metadata": {
        "id": "UgFyKISKBNOi",
        "colab_type": "code",
        "colab": {}
      },
      "source": [
        "data.drop([\"Date_month_year\"],axis=1,inplace=True)"
      ],
      "execution_count": null,
      "outputs": []
    },
    {
      "cell_type": "code",
      "metadata": {
        "id": "J8vcVO1HBWPy",
        "colab_type": "code",
        "colab": {
          "base_uri": "https://localhost:8080/",
          "height": 603
        },
        "outputId": "d01b052e-3353-458b-937c-9b04915c841f"
      },
      "source": [
        "data"
      ],
      "execution_count": null,
      "outputs": [
        {
          "output_type": "execute_result",
          "data": {
            "text/html": [
              "<div>\n",
              "<style scoped>\n",
              "    .dataframe tbody tr th:only-of-type {\n",
              "        vertical-align: middle;\n",
              "    }\n",
              "\n",
              "    .dataframe tbody tr th {\n",
              "        vertical-align: top;\n",
              "    }\n",
              "\n",
              "    .dataframe thead th {\n",
              "        text-align: right;\n",
              "    }\n",
              "</style>\n",
              "<table border=\"1\" class=\"dataframe\">\n",
              "  <thead>\n",
              "    <tr style=\"text-align: right;\">\n",
              "      <th></th>\n",
              "      <th>Issue</th>\n",
              "      <th>Customer Complaint</th>\n",
              "      <th>Dates</th>\n",
              "      <th>Month</th>\n",
              "      <th>Year</th>\n",
              "      <th>Time</th>\n",
              "      <th>Received Via</th>\n",
              "      <th>City</th>\n",
              "      <th>State</th>\n",
              "      <th>Zip code</th>\n",
              "      <th>Status</th>\n",
              "      <th>Filing on Behalf of Someone</th>\n",
              "    </tr>\n",
              "  </thead>\n",
              "  <tbody>\n",
              "    <tr>\n",
              "      <th>0</th>\n",
              "      <td>1.0</td>\n",
              "      <td>Comcast Cable Internet Speeds</td>\n",
              "      <td>22</td>\n",
              "      <td>Apr</td>\n",
              "      <td>15</td>\n",
              "      <td>3:53:50 PM</td>\n",
              "      <td>Customer Care Call</td>\n",
              "      <td>Abingdon</td>\n",
              "      <td>Maryland</td>\n",
              "      <td>21009</td>\n",
              "      <td>Closed</td>\n",
              "      <td>No</td>\n",
              "    </tr>\n",
              "    <tr>\n",
              "      <th>1</th>\n",
              "      <td>1.0</td>\n",
              "      <td>Payment disappear - service got disconnected</td>\n",
              "      <td>4</td>\n",
              "      <td>Aug</td>\n",
              "      <td>15</td>\n",
              "      <td>10:22:56 AM</td>\n",
              "      <td>Internet</td>\n",
              "      <td>Acworth</td>\n",
              "      <td>Georgia</td>\n",
              "      <td>30102</td>\n",
              "      <td>Closed</td>\n",
              "      <td>No</td>\n",
              "    </tr>\n",
              "    <tr>\n",
              "      <th>2</th>\n",
              "      <td>1.0</td>\n",
              "      <td>Speed and Service</td>\n",
              "      <td>18</td>\n",
              "      <td>Apr</td>\n",
              "      <td>15</td>\n",
              "      <td>9:55:47 AM</td>\n",
              "      <td>Internet</td>\n",
              "      <td>Acworth</td>\n",
              "      <td>Georgia</td>\n",
              "      <td>30101</td>\n",
              "      <td>Closed</td>\n",
              "      <td>Yes</td>\n",
              "    </tr>\n",
              "    <tr>\n",
              "      <th>3</th>\n",
              "      <td>1.0</td>\n",
              "      <td>Comcast Imposed a New Usage Cap of 300GB that ...</td>\n",
              "      <td>5</td>\n",
              "      <td>Jul</td>\n",
              "      <td>15</td>\n",
              "      <td>11:59:35 AM</td>\n",
              "      <td>Internet</td>\n",
              "      <td>Acworth</td>\n",
              "      <td>Georgia</td>\n",
              "      <td>30101</td>\n",
              "      <td>Open</td>\n",
              "      <td>Yes</td>\n",
              "    </tr>\n",
              "    <tr>\n",
              "      <th>4</th>\n",
              "      <td>1.0</td>\n",
              "      <td>Comcast not working and no service to boot</td>\n",
              "      <td>26</td>\n",
              "      <td>May</td>\n",
              "      <td>15</td>\n",
              "      <td>1:25:26 PM</td>\n",
              "      <td>Internet</td>\n",
              "      <td>Acworth</td>\n",
              "      <td>Georgia</td>\n",
              "      <td>30101</td>\n",
              "      <td>Solved</td>\n",
              "      <td>No</td>\n",
              "    </tr>\n",
              "    <tr>\n",
              "      <th>...</th>\n",
              "      <td>...</td>\n",
              "      <td>...</td>\n",
              "      <td>...</td>\n",
              "      <td>...</td>\n",
              "      <td>...</td>\n",
              "      <td>...</td>\n",
              "      <td>...</td>\n",
              "      <td>...</td>\n",
              "      <td>...</td>\n",
              "      <td>...</td>\n",
              "      <td>...</td>\n",
              "      <td>...</td>\n",
              "    </tr>\n",
              "    <tr>\n",
              "      <th>2219</th>\n",
              "      <td>1.0</td>\n",
              "      <td>Service Availability</td>\n",
              "      <td>4</td>\n",
              "      <td>Feb</td>\n",
              "      <td>15</td>\n",
              "      <td>9:13:18 AM</td>\n",
              "      <td>Customer Care Call</td>\n",
              "      <td>Youngstown</td>\n",
              "      <td>Florida</td>\n",
              "      <td>32466</td>\n",
              "      <td>Closed</td>\n",
              "      <td>No</td>\n",
              "    </tr>\n",
              "    <tr>\n",
              "      <th>2220</th>\n",
              "      <td>1.0</td>\n",
              "      <td>Comcast Monthly Billing for Returned Modem</td>\n",
              "      <td>6</td>\n",
              "      <td>Feb</td>\n",
              "      <td>15</td>\n",
              "      <td>1:24:39 PM</td>\n",
              "      <td>Customer Care Call</td>\n",
              "      <td>Ypsilanti</td>\n",
              "      <td>Michigan</td>\n",
              "      <td>48197</td>\n",
              "      <td>Solved</td>\n",
              "      <td>No</td>\n",
              "    </tr>\n",
              "    <tr>\n",
              "      <th>2221</th>\n",
              "      <td>1.0</td>\n",
              "      <td>complaint about comcast</td>\n",
              "      <td>6</td>\n",
              "      <td>Sep</td>\n",
              "      <td>15</td>\n",
              "      <td>5:28:41 PM</td>\n",
              "      <td>Internet</td>\n",
              "      <td>Ypsilanti</td>\n",
              "      <td>Michigan</td>\n",
              "      <td>48197</td>\n",
              "      <td>Solved</td>\n",
              "      <td>No</td>\n",
              "    </tr>\n",
              "    <tr>\n",
              "      <th>2222</th>\n",
              "      <td>1.0</td>\n",
              "      <td>Extremely unsatisfied Comcast customer</td>\n",
              "      <td>23</td>\n",
              "      <td>Jun</td>\n",
              "      <td>15</td>\n",
              "      <td>11:13:30 PM</td>\n",
              "      <td>Customer Care Call</td>\n",
              "      <td>Ypsilanti</td>\n",
              "      <td>Michigan</td>\n",
              "      <td>48197</td>\n",
              "      <td>Solved</td>\n",
              "      <td>No</td>\n",
              "    </tr>\n",
              "    <tr>\n",
              "      <th>2223</th>\n",
              "      <td>1.0</td>\n",
              "      <td>Comcast, Ypsilanti MI Internet Speed</td>\n",
              "      <td>24</td>\n",
              "      <td>Jun</td>\n",
              "      <td>15</td>\n",
              "      <td>10:28:33 PM</td>\n",
              "      <td>Customer Care Call</td>\n",
              "      <td>Ypsilanti</td>\n",
              "      <td>Michigan</td>\n",
              "      <td>48198</td>\n",
              "      <td>Open</td>\n",
              "      <td>Yes</td>\n",
              "    </tr>\n",
              "  </tbody>\n",
              "</table>\n",
              "<p>2224 rows × 12 columns</p>\n",
              "</div>"
            ],
            "text/plain": [
              "      Issue  ... Filing on Behalf of Someone\n",
              "0       1.0  ...                          No\n",
              "1       1.0  ...                          No\n",
              "2       1.0  ...                         Yes\n",
              "3       1.0  ...                         Yes\n",
              "4       1.0  ...                          No\n",
              "...     ...  ...                         ...\n",
              "2219    1.0  ...                          No\n",
              "2220    1.0  ...                          No\n",
              "2221    1.0  ...                          No\n",
              "2222    1.0  ...                          No\n",
              "2223    1.0  ...                         Yes\n",
              "\n",
              "[2224 rows x 12 columns]"
            ]
          },
          "metadata": {
            "tags": []
          },
          "execution_count": 12
        }
      ]
    },
    {
      "cell_type": "markdown",
      "metadata": {
        "id": "dYNa7vXLBfMp",
        "colab_type": "text"
      },
      "source": [
        "Grouping the complaint w.r.t month"
      ]
    },
    {
      "cell_type": "code",
      "metadata": {
        "id": "5LF-DJh_BliJ",
        "colab_type": "code",
        "colab": {}
      },
      "source": [
        "data_group_by_month=data.groupby(data.Month).sum()"
      ],
      "execution_count": null,
      "outputs": []
    },
    {
      "cell_type": "code",
      "metadata": {
        "id": "23vCtmrUBW8x",
        "colab_type": "code",
        "colab": {
          "base_uri": "https://localhost:8080/",
          "height": 432
        },
        "outputId": "782bf520-b270-4007-a12a-f3cb07a1ebc3"
      },
      "source": [
        "data_group_by_month"
      ],
      "execution_count": null,
      "outputs": [
        {
          "output_type": "execute_result",
          "data": {
            "text/html": [
              "<div>\n",
              "<style scoped>\n",
              "    .dataframe tbody tr th:only-of-type {\n",
              "        vertical-align: middle;\n",
              "    }\n",
              "\n",
              "    .dataframe tbody tr th {\n",
              "        vertical-align: top;\n",
              "    }\n",
              "\n",
              "    .dataframe thead th {\n",
              "        text-align: right;\n",
              "    }\n",
              "</style>\n",
              "<table border=\"1\" class=\"dataframe\">\n",
              "  <thead>\n",
              "    <tr style=\"text-align: right;\">\n",
              "      <th></th>\n",
              "      <th>Issue</th>\n",
              "      <th>Dates</th>\n",
              "      <th>Zip code</th>\n",
              "    </tr>\n",
              "    <tr>\n",
              "      <th>Month</th>\n",
              "      <th></th>\n",
              "      <th></th>\n",
              "      <th></th>\n",
              "    </tr>\n",
              "  </thead>\n",
              "  <tbody>\n",
              "    <tr>\n",
              "      <th>Apr</th>\n",
              "      <td>375.0</td>\n",
              "      <td>7596</td>\n",
              "      <td>17358548</td>\n",
              "    </tr>\n",
              "    <tr>\n",
              "      <th>Aug</th>\n",
              "      <td>67.0</td>\n",
              "      <td>331</td>\n",
              "      <td>3089026</td>\n",
              "    </tr>\n",
              "    <tr>\n",
              "      <th>Dec</th>\n",
              "      <td>65.0</td>\n",
              "      <td>353</td>\n",
              "      <td>3344612</td>\n",
              "    </tr>\n",
              "    <tr>\n",
              "      <th>Feb</th>\n",
              "      <td>59.0</td>\n",
              "      <td>293</td>\n",
              "      <td>3022550</td>\n",
              "    </tr>\n",
              "    <tr>\n",
              "      <th>Jan</th>\n",
              "      <td>55.0</td>\n",
              "      <td>282</td>\n",
              "      <td>2483519</td>\n",
              "    </tr>\n",
              "    <tr>\n",
              "      <th>Jul</th>\n",
              "      <td>49.0</td>\n",
              "      <td>229</td>\n",
              "      <td>2074708</td>\n",
              "    </tr>\n",
              "    <tr>\n",
              "      <th>Jun</th>\n",
              "      <td>1046.0</td>\n",
              "      <td>23335</td>\n",
              "      <td>52759687</td>\n",
              "    </tr>\n",
              "    <tr>\n",
              "      <th>Mar</th>\n",
              "      <td>45.0</td>\n",
              "      <td>235</td>\n",
              "      <td>2284081</td>\n",
              "    </tr>\n",
              "    <tr>\n",
              "      <th>May</th>\n",
              "      <td>317.0</td>\n",
              "      <td>6253</td>\n",
              "      <td>13751629</td>\n",
              "    </tr>\n",
              "    <tr>\n",
              "      <th>Nov</th>\n",
              "      <td>38.0</td>\n",
              "      <td>206</td>\n",
              "      <td>1571852</td>\n",
              "    </tr>\n",
              "    <tr>\n",
              "      <th>Oct</th>\n",
              "      <td>53.0</td>\n",
              "      <td>269</td>\n",
              "      <td>2350994</td>\n",
              "    </tr>\n",
              "    <tr>\n",
              "      <th>Sep</th>\n",
              "      <td>55.0</td>\n",
              "      <td>277</td>\n",
              "      <td>2648325</td>\n",
              "    </tr>\n",
              "  </tbody>\n",
              "</table>\n",
              "</div>"
            ],
            "text/plain": [
              "        Issue  Dates  Zip code\n",
              "Month                         \n",
              "Apr     375.0   7596  17358548\n",
              "Aug      67.0    331   3089026\n",
              "Dec      65.0    353   3344612\n",
              "Feb      59.0    293   3022550\n",
              "Jan      55.0    282   2483519\n",
              "Jul      49.0    229   2074708\n",
              "Jun    1046.0  23335  52759687\n",
              "Mar      45.0    235   2284081\n",
              "May     317.0   6253  13751629\n",
              "Nov      38.0    206   1571852\n",
              "Oct      53.0    269   2350994\n",
              "Sep      55.0    277   2648325"
            ]
          },
          "metadata": {
            "tags": []
          },
          "execution_count": 14
        }
      ]
    },
    {
      "cell_type": "code",
      "metadata": {
        "id": "Sm_z7HrBCBsE",
        "colab_type": "code",
        "colab": {}
      },
      "source": [
        "issue_count=data_group_by_month.Issue\n",
        "issuue_month=data_group_by_month.index"
      ],
      "execution_count": null,
      "outputs": []
    },
    {
      "cell_type": "markdown",
      "metadata": {
        "id": "X9yfGzgBCxhO",
        "colab_type": "text"
      },
      "source": [
        "**ploting the issue month wise**"
      ]
    },
    {
      "cell_type": "code",
      "metadata": {
        "id": "uT6GuYLdCakl",
        "colab_type": "code",
        "colab": {
          "base_uri": "https://localhost:8080/",
          "height": 265
        },
        "outputId": "4aac60f8-48af-4839-92c1-4b87a5f6055a"
      },
      "source": [
        "\n",
        "plt.bar(issuue_month,issue_count,color=\"red\")\n",
        "plt.show()\n"
      ],
      "execution_count": null,
      "outputs": [
        {
          "output_type": "display_data",
          "data": {
            "image/png": "[encoded data removed]",
            "text/plain": [
              "<Figure size 432x288 with 1 Axes>"
            ]
          },
          "metadata": {
            "tags": [],
            "needs_background": "light"
          }
        }
      ]
    },
    {
      "cell_type": "markdown",
      "metadata": {
        "id": "qcdwoR8-DAHL",
        "colab_type": "text"
      },
      "source": [
        "As per the plot we can clearly see that maximum number of issue raised in June Month"
      ]
    },
    {
      "cell_type": "markdown",
      "metadata": {
        "id": "BN_037MyDhuK",
        "colab_type": "text"
      },
      "source": [
        "Grouping with respect to the dates"
      ]
    },
    {
      "cell_type": "code",
      "metadata": {
        "id": "C5A6GX56DN9X",
        "colab_type": "code",
        "colab": {}
      },
      "source": [
        "data_group_by_dates=data.groupby(data.Dates).sum()"
      ],
      "execution_count": null,
      "outputs": []
    },
    {
      "cell_type": "code",
      "metadata": {
        "id": "bqerulegD2hR",
        "colab_type": "code",
        "colab": {
          "base_uri": "https://localhost:8080/",
          "height": 225
        },
        "outputId": "d1364987-6130-413b-8f95-fdc61495b643"
      },
      "source": [
        "data_group_by_dates.head()"
      ],
      "execution_count": null,
      "outputs": [
        {
          "output_type": "execute_result",
          "data": {
            "text/html": [
              "<div>\n",
              "<style scoped>\n",
              "    .dataframe tbody tr th:only-of-type {\n",
              "        vertical-align: middle;\n",
              "    }\n",
              "\n",
              "    .dataframe tbody tr th {\n",
              "        vertical-align: top;\n",
              "    }\n",
              "\n",
              "    .dataframe thead th {\n",
              "        text-align: right;\n",
              "    }\n",
              "</style>\n",
              "<table border=\"1\" class=\"dataframe\">\n",
              "  <thead>\n",
              "    <tr style=\"text-align: right;\">\n",
              "      <th></th>\n",
              "      <th>Issue</th>\n",
              "      <th>Zip code</th>\n",
              "    </tr>\n",
              "    <tr>\n",
              "      <th>Dates</th>\n",
              "      <th></th>\n",
              "      <th></th>\n",
              "    </tr>\n",
              "  </thead>\n",
              "  <tbody>\n",
              "    <tr>\n",
              "      <th>4</th>\n",
              "      <td>206.0</td>\n",
              "      <td>9895965</td>\n",
              "    </tr>\n",
              "    <tr>\n",
              "      <th>5</th>\n",
              "      <td>131.0</td>\n",
              "      <td>6668308</td>\n",
              "    </tr>\n",
              "    <tr>\n",
              "      <th>6</th>\n",
              "      <td>272.0</td>\n",
              "      <td>12645019</td>\n",
              "    </tr>\n",
              "    <tr>\n",
              "      <th>13</th>\n",
              "      <td>68.0</td>\n",
              "      <td>3247662</td>\n",
              "    </tr>\n",
              "    <tr>\n",
              "      <th>14</th>\n",
              "      <td>54.0</td>\n",
              "      <td>2323170</td>\n",
              "    </tr>\n",
              "  </tbody>\n",
              "</table>\n",
              "</div>"
            ],
            "text/plain": [
              "       Issue  Zip code\n",
              "Dates                 \n",
              "4      206.0   9895965\n",
              "5      131.0   6668308\n",
              "6      272.0  12645019\n",
              "13      68.0   3247662\n",
              "14      54.0   2323170"
            ]
          },
          "metadata": {
            "tags": []
          },
          "execution_count": 18
        }
      ]
    },
    {
      "cell_type": "code",
      "metadata": {
        "id": "GjfFVJP1D-Ap",
        "colab_type": "code",
        "colab": {}
      },
      "source": [
        "case_count=data_group_by_dates.Issue\n",
        "dates=data_group_by_dates.index"
      ],
      "execution_count": null,
      "outputs": []
    },
    {
      "cell_type": "code",
      "metadata": {
        "id": "68IRwV3lEKdr",
        "colab_type": "code",
        "colab": {
          "base_uri": "https://localhost:8080/",
          "height": 265
        },
        "outputId": "0e539468-19d7-4552-d79c-412aa6080b0a"
      },
      "source": [
        "plt.bar(dates,case_count,color=\"#5c5cd6\")\n",
        "plt.show()"
      ],
      "execution_count": null,
      "outputs": [
        {
          "output_type": "display_data",
          "data": {
            "image/png": "[encoded data removed]",
            "text/plain": [
              "<Figure size 432x288 with 1 Axes>"
            ]
          },
          "metadata": {
            "tags": [],
            "needs_background": "light"
          }
        }
      ]
    },
    {
      "cell_type": "markdown",
      "metadata": {
        "id": "ir7303zLE-KY",
        "colab_type": "text"
      },
      "source": [
        "AS per the plot we can clearly see that maximum number of cases open on 6th day of the month, while between 7 and 12 there are no cases at all\n"
      ]
    },
    {
      "cell_type": "markdown",
      "metadata": {
        "id": "HokYZBa0Fh8A",
        "colab_type": "text"
      },
      "source": [
        "**Grouping by the Complaint type to identify the which kind of the complaints are often**"
      ]
    },
    {
      "cell_type": "code",
      "metadata": {
        "id": "YNYydPbOEmqT",
        "colab_type": "code",
        "colab": {}
      },
      "source": [
        "group_by_complaint_type=(data.groupby([\"Customer Complaint\"]).sum())"
      ],
      "execution_count": null,
      "outputs": []
    },
    {
      "cell_type": "code",
      "metadata": {
        "id": "H6uKz8XCGPzi",
        "colab_type": "code",
        "colab": {
          "base_uri": "https://localhost:8080/",
          "height": 465
        },
        "outputId": "5a899830-ac34-415d-cd99-68ac66f63ce7"
      },
      "source": [
        "group_by_complaint_type"
      ],
      "execution_count": null,
      "outputs": [
        {
          "output_type": "execute_result",
          "data": {
            "text/html": [
              "<div>\n",
              "<style scoped>\n",
              "    .dataframe tbody tr th:only-of-type {\n",
              "        vertical-align: middle;\n",
              "    }\n",
              "\n",
              "    .dataframe tbody tr th {\n",
              "        vertical-align: top;\n",
              "    }\n",
              "\n",
              "    .dataframe thead th {\n",
              "        text-align: right;\n",
              "    }\n",
              "</style>\n",
              "<table border=\"1\" class=\"dataframe\">\n",
              "  <thead>\n",
              "    <tr style=\"text-align: right;\">\n",
              "      <th></th>\n",
              "      <th>Issue</th>\n",
              "      <th>Dates</th>\n",
              "      <th>Zip code</th>\n",
              "    </tr>\n",
              "    <tr>\n",
              "      <th>Customer Complaint</th>\n",
              "      <th></th>\n",
              "      <th></th>\n",
              "      <th></th>\n",
              "    </tr>\n",
              "  </thead>\n",
              "  <tbody>\n",
              "    <tr>\n",
              "      <th>(Comcast is not my complaint!) Cyber Tele-marketing is my complaint!</th>\n",
              "      <td>1.0</td>\n",
              "      <td>27</td>\n",
              "      <td>26062</td>\n",
              "    </tr>\n",
              "    <tr>\n",
              "      <th>10 Days No Service - 12 Appointments Comcast Hasn't Shown Up - Comcast Has Not Fixed Home Infinity X1 - In 10 Days- Cannot Make 911 Calls</th>\n",
              "      <td>1.0</td>\n",
              "      <td>27</td>\n",
              "      <td>29406</td>\n",
              "    </tr>\n",
              "    <tr>\n",
              "      <th>2 months and Comcast has not fixed problem</th>\n",
              "      <td>1.0</td>\n",
              "      <td>21</td>\n",
              "      <td>37013</td>\n",
              "    </tr>\n",
              "    <tr>\n",
              "      <th>2+ Day Degraded Services</th>\n",
              "      <td>1.0</td>\n",
              "      <td>22</td>\n",
              "      <td>22815</td>\n",
              "    </tr>\n",
              "    <tr>\n",
              "      <th>300 GB monthly allowance</th>\n",
              "      <td>1.0</td>\n",
              "      <td>25</td>\n",
              "      <td>30122</td>\n",
              "    </tr>\n",
              "    <tr>\n",
              "      <th>...</th>\n",
              "      <td>...</td>\n",
              "      <td>...</td>\n",
              "      <td>...</td>\n",
              "    </tr>\n",
              "    <tr>\n",
              "      <th>why am I paying for this ?</th>\n",
              "      <td>1.0</td>\n",
              "      <td>23</td>\n",
              "      <td>22172</td>\n",
              "    </tr>\n",
              "    <tr>\n",
              "      <th>without service despite willingness to pay</th>\n",
              "      <td>1.0</td>\n",
              "      <td>26</td>\n",
              "      <td>22204</td>\n",
              "    </tr>\n",
              "    <tr>\n",
              "      <th>xfinitty tv and exfinity alarm</th>\n",
              "      <td>1.0</td>\n",
              "      <td>13</td>\n",
              "      <td>33314</td>\n",
              "    </tr>\n",
              "    <tr>\n",
              "      <th>xfinity Internet</th>\n",
              "      <td>1.0</td>\n",
              "      <td>6</td>\n",
              "      <td>72076</td>\n",
              "    </tr>\n",
              "    <tr>\n",
              "      <th>xfinity customer service</th>\n",
              "      <td>1.0</td>\n",
              "      <td>24</td>\n",
              "      <td>99208</td>\n",
              "    </tr>\n",
              "  </tbody>\n",
              "</table>\n",
              "<p>1841 rows × 3 columns</p>\n",
              "</div>"
            ],
            "text/plain": [
              "                                                    Issue  Dates  Zip code\n",
              "Customer Complaint                                                        \n",
              "(Comcast is not my complaint!) Cyber Tele-marke...    1.0     27     26062\n",
              "10 Days No Service - 12 Appointments Comcast Ha...    1.0     27     29406\n",
              "2 months and Comcast has not fixed problem            1.0     21     37013\n",
              "2+ Day Degraded Services                              1.0     22     22815\n",
              "300 GB monthly allowance                              1.0     25     30122\n",
              "...                                                   ...    ...       ...\n",
              "why am I paying for this ?                            1.0     23     22172\n",
              "without service despite willingness to pay            1.0     26     22204\n",
              "xfinitty tv and exfinity alarm                        1.0     13     33314\n",
              "xfinity Internet                                      1.0      6     72076\n",
              "xfinity customer service                              1.0     24     99208\n",
              "\n",
              "[1841 rows x 3 columns]"
            ]
          },
          "metadata": {
            "tags": []
          },
          "execution_count": 22
        }
      ]
    },
    {
      "cell_type": "code",
      "metadata": {
        "id": "SHuTv259GTwe",
        "colab_type": "code",
        "colab": {}
      },
      "source": [
        "group_by_mode_communication=data.groupby([\"Received Via\"]).sum()"
      ],
      "execution_count": null,
      "outputs": []
    },
    {
      "cell_type": "code",
      "metadata": {
        "id": "oidQm7oBJSps",
        "colab_type": "code",
        "colab": {
          "base_uri": "https://localhost:8080/",
          "height": 248
        },
        "outputId": "8ad4afdb-86ef-40f5-804f-e8e93c5041c2"
      },
      "source": [
        "group=group_by_mode_communication.index\n",
        "Issue=group_by_mode_communication.Issue\n",
        "color=[\"#00ff00\", \"#0040ff\"]\n",
        "\n",
        "plt.pie(Issue,colors=color,labels=group,shadow=True)\n",
        "plt.show()"
      ],
      "execution_count": null,
      "outputs": [
        {
          "output_type": "display_data",
          "data": {
            "image/png": "[encoded data removed]",
            "text/plain": [
              "<Figure size 432x288 with 1 Axes>"
            ]
          },
          "metadata": {
            "tags": []
          }
        }
      ]
    },
    {
      "cell_type": "markdown",
      "metadata": {
        "id": "u5fXUUisMNhJ",
        "colab_type": "text"
      },
      "source": [
        "**Creating open and close column**"
      ]
    },
    {
      "cell_type": "code",
      "metadata": {
        "id": "YMvQypBIKYWp",
        "colab_type": "code",
        "colab": {}
      },
      "source": [
        "oppen=[]\n",
        "close=[]\n",
        "open_close_categorical=[]\n",
        "i=0\n",
        "for sample in data.Status:\n",
        "  if(sample==\"Open\" or sample==\"Pending\"):\n",
        "    oppen.append(1)\n",
        "    close.append(0)\n",
        "    open_close_categorical.append(\"open\")\n",
        "    i=i+1\n",
        "  else:\n",
        "    oppen.append(0)\n",
        "    close.append(1)\n",
        "    open_close_categorical.append(\"Close\")\n",
        "    i=i+1"
      ],
      "execution_count": null,
      "outputs": []
    },
    {
      "cell_type": "code",
      "metadata": {
        "id": "zT2YK7XNQ2v6",
        "colab_type": "code",
        "colab": {
          "base_uri": "https://localhost:8080/",
          "height": 34
        },
        "outputId": "b755e7e0-814a-4b6c-fafc-452480e49ab0"
      },
      "source": [
        "open_close_categorical.count(\"Close\")"
      ],
      "execution_count": null,
      "outputs": [
        {
          "output_type": "execute_result",
          "data": {
            "text/plain": [
              "1707"
            ]
          },
          "metadata": {
            "tags": []
          },
          "execution_count": 26
        }
      ]
    },
    {
      "cell_type": "code",
      "metadata": {
        "id": "v16TrVYSOCzq",
        "colab_type": "code",
        "colab": {}
      },
      "source": [
        "oppen=pd.DataFrame(oppen)\n",
        "close=pd.DataFrame(close)\n",
        "data.insert(loc=10,value=open_close_categorical,column=\"New_Status\")\n",
        "data.insert(loc=11,value=oppen,column=\"Open\")\n",
        "data.insert(loc=12,value=close,column=\"Close\")"
      ],
      "execution_count": null,
      "outputs": []
    },
    {
      "cell_type": "markdown",
      "metadata": {
        "id": "urlRS9HxRYxo",
        "colab_type": "text"
      },
      "source": [
        "**Succesfully created the new column \"New_Status that has only 2 status Open and Close as per the Instruction\"**\n"
      ]
    },
    {
      "cell_type": "code",
      "metadata": {
        "id": "JD_XVa3EMu3H",
        "colab_type": "code",
        "colab": {
          "base_uri": "https://localhost:8080/",
          "height": 595
        },
        "outputId": "9cecaa86-a1d5-468f-80d0-43d201a65938"
      },
      "source": [
        "data.head(10)"
      ],
      "execution_count": null,
      "outputs": [
        {
          "output_type": "execute_result",
          "data": {
            "text/html": [
              "<div>\n",
              "<style scoped>\n",
              "    .dataframe tbody tr th:only-of-type {\n",
              "        vertical-align: middle;\n",
              "    }\n",
              "\n",
              "    .dataframe tbody tr th {\n",
              "        vertical-align: top;\n",
              "    }\n",
              "\n",
              "    .dataframe thead th {\n",
              "        text-align: right;\n",
              "    }\n",
              "</style>\n",
              "<table border=\"1\" class=\"dataframe\">\n",
              "  <thead>\n",
              "    <tr style=\"text-align: right;\">\n",
              "      <th></th>\n",
              "      <th>Issue</th>\n",
              "      <th>Customer Complaint</th>\n",
              "      <th>Dates</th>\n",
              "      <th>Month</th>\n",
              "      <th>Year</th>\n",
              "      <th>Time</th>\n",
              "      <th>Received Via</th>\n",
              "      <th>City</th>\n",
              "      <th>State</th>\n",
              "      <th>Zip code</th>\n",
              "      <th>New_Status</th>\n",
              "      <th>Open</th>\n",
              "      <th>Close</th>\n",
              "      <th>Status</th>\n",
              "      <th>Filing on Behalf of Someone</th>\n",
              "    </tr>\n",
              "  </thead>\n",
              "  <tbody>\n",
              "    <tr>\n",
              "      <th>0</th>\n",
              "      <td>1.0</td>\n",
              "      <td>Comcast Cable Internet Speeds</td>\n",
              "      <td>22</td>\n",
              "      <td>Apr</td>\n",
              "      <td>15</td>\n",
              "      <td>3:53:50 PM</td>\n",
              "      <td>Customer Care Call</td>\n",
              "      <td>Abingdon</td>\n",
              "      <td>Maryland</td>\n",
              "      <td>21009</td>\n",
              "      <td>Close</td>\n",
              "      <td>0</td>\n",
              "      <td>1</td>\n",
              "      <td>Closed</td>\n",
              "      <td>No</td>\n",
              "    </tr>\n",
              "    <tr>\n",
              "      <th>1</th>\n",
              "      <td>1.0</td>\n",
              "      <td>Payment disappear - service got disconnected</td>\n",
              "      <td>4</td>\n",
              "      <td>Aug</td>\n",
              "      <td>15</td>\n",
              "      <td>10:22:56 AM</td>\n",
              "      <td>Internet</td>\n",
              "      <td>Acworth</td>\n",
              "      <td>Georgia</td>\n",
              "      <td>30102</td>\n",
              "      <td>Close</td>\n",
              "      <td>0</td>\n",
              "      <td>1</td>\n",
              "      <td>Closed</td>\n",
              "      <td>No</td>\n",
              "    </tr>\n",
              "    <tr>\n",
              "      <th>2</th>\n",
              "      <td>1.0</td>\n",
              "      <td>Speed and Service</td>\n",
              "      <td>18</td>\n",
              "      <td>Apr</td>\n",
              "      <td>15</td>\n",
              "      <td>9:55:47 AM</td>\n",
              "      <td>Internet</td>\n",
              "      <td>Acworth</td>\n",
              "      <td>Georgia</td>\n",
              "      <td>30101</td>\n",
              "      <td>Close</td>\n",
              "      <td>0</td>\n",
              "      <td>1</td>\n",
              "      <td>Closed</td>\n",
              "      <td>Yes</td>\n",
              "    </tr>\n",
              "    <tr>\n",
              "      <th>3</th>\n",
              "      <td>1.0</td>\n",
              "      <td>Comcast Imposed a New Usage Cap of 300GB that ...</td>\n",
              "      <td>5</td>\n",
              "      <td>Jul</td>\n",
              "      <td>15</td>\n",
              "      <td>11:59:35 AM</td>\n",
              "      <td>Internet</td>\n",
              "      <td>Acworth</td>\n",
              "      <td>Georgia</td>\n",
              "      <td>30101</td>\n",
              "      <td>open</td>\n",
              "      <td>1</td>\n",
              "      <td>0</td>\n",
              "      <td>Open</td>\n",
              "      <td>Yes</td>\n",
              "    </tr>\n",
              "    <tr>\n",
              "      <th>4</th>\n",
              "      <td>1.0</td>\n",
              "      <td>Comcast not working and no service to boot</td>\n",
              "      <td>26</td>\n",
              "      <td>May</td>\n",
              "      <td>15</td>\n",
              "      <td>1:25:26 PM</td>\n",
              "      <td>Internet</td>\n",
              "      <td>Acworth</td>\n",
              "      <td>Georgia</td>\n",
              "      <td>30101</td>\n",
              "      <td>Close</td>\n",
              "      <td>0</td>\n",
              "      <td>1</td>\n",
              "      <td>Solved</td>\n",
              "      <td>No</td>\n",
              "    </tr>\n",
              "    <tr>\n",
              "      <th>5</th>\n",
              "      <td>1.0</td>\n",
              "      <td>ISP Charging for arbitrary data limits with ov...</td>\n",
              "      <td>6</td>\n",
              "      <td>Dec</td>\n",
              "      <td>15</td>\n",
              "      <td>9:59:40 PM</td>\n",
              "      <td>Internet</td>\n",
              "      <td>Acworth</td>\n",
              "      <td>Georgia</td>\n",
              "      <td>30101</td>\n",
              "      <td>Close</td>\n",
              "      <td>0</td>\n",
              "      <td>1</td>\n",
              "      <td>Solved</td>\n",
              "      <td>No</td>\n",
              "    </tr>\n",
              "    <tr>\n",
              "      <th>6</th>\n",
              "      <td>1.0</td>\n",
              "      <td>Throttling service and unreasonable data caps</td>\n",
              "      <td>24</td>\n",
              "      <td>Jun</td>\n",
              "      <td>15</td>\n",
              "      <td>10:13:55 AM</td>\n",
              "      <td>Customer Care Call</td>\n",
              "      <td>Acworth</td>\n",
              "      <td>Georgia</td>\n",
              "      <td>30101</td>\n",
              "      <td>open</td>\n",
              "      <td>1</td>\n",
              "      <td>0</td>\n",
              "      <td>Pending</td>\n",
              "      <td>No</td>\n",
              "    </tr>\n",
              "    <tr>\n",
              "      <th>7</th>\n",
              "      <td>1.0</td>\n",
              "      <td>Comcast refuses to help troubleshoot and corre...</td>\n",
              "      <td>23</td>\n",
              "      <td>Jun</td>\n",
              "      <td>15</td>\n",
              "      <td>6:56:14 PM</td>\n",
              "      <td>Internet</td>\n",
              "      <td>Adrian</td>\n",
              "      <td>Michigan</td>\n",
              "      <td>49221</td>\n",
              "      <td>Close</td>\n",
              "      <td>0</td>\n",
              "      <td>1</td>\n",
              "      <td>Solved</td>\n",
              "      <td>No</td>\n",
              "    </tr>\n",
              "    <tr>\n",
              "      <th>8</th>\n",
              "      <td>1.0</td>\n",
              "      <td>Comcast extended outages</td>\n",
              "      <td>6</td>\n",
              "      <td>Jan</td>\n",
              "      <td>15</td>\n",
              "      <td>11:46:30 PM</td>\n",
              "      <td>Customer Care Call</td>\n",
              "      <td>Alameda</td>\n",
              "      <td>California</td>\n",
              "      <td>94502</td>\n",
              "      <td>Close</td>\n",
              "      <td>0</td>\n",
              "      <td>1</td>\n",
              "      <td>Closed</td>\n",
              "      <td>No</td>\n",
              "    </tr>\n",
              "    <tr>\n",
              "      <th>9</th>\n",
              "      <td>1.0</td>\n",
              "      <td>Comcast Raising Prices and Not Being Available...</td>\n",
              "      <td>28</td>\n",
              "      <td>Jun</td>\n",
              "      <td>15</td>\n",
              "      <td>6:46:31 PM</td>\n",
              "      <td>Customer Care Call</td>\n",
              "      <td>Alameda</td>\n",
              "      <td>California</td>\n",
              "      <td>94501</td>\n",
              "      <td>open</td>\n",
              "      <td>1</td>\n",
              "      <td>0</td>\n",
              "      <td>Open</td>\n",
              "      <td>Yes</td>\n",
              "    </tr>\n",
              "  </tbody>\n",
              "</table>\n",
              "</div>"
            ],
            "text/plain": [
              "   Issue  ... Filing on Behalf of Someone\n",
              "0    1.0  ...                          No\n",
              "1    1.0  ...                          No\n",
              "2    1.0  ...                         Yes\n",
              "3    1.0  ...                         Yes\n",
              "4    1.0  ...                          No\n",
              "5    1.0  ...                          No\n",
              "6    1.0  ...                          No\n",
              "7    1.0  ...                          No\n",
              "8    1.0  ...                          No\n",
              "9    1.0  ...                         Yes\n",
              "\n",
              "[10 rows x 15 columns]"
            ]
          },
          "metadata": {
            "tags": []
          },
          "execution_count": 28
        }
      ]
    },
    {
      "cell_type": "code",
      "metadata": {
        "id": "QSHjhTjlQLtT",
        "colab_type": "code",
        "colab": {}
      },
      "source": [
        "##droping the old Status\n",
        "data.drop([\"Status\"],axis=1,inplace=True)"
      ],
      "execution_count": null,
      "outputs": []
    },
    {
      "cell_type": "code",
      "metadata": {
        "id": "BTmzGm4lQNOo",
        "colab_type": "code",
        "colab": {
          "base_uri": "https://localhost:8080/",
          "height": 637
        },
        "outputId": "492d3457-7ad1-4c69-d141-b0dba72dface"
      },
      "source": [
        "data"
      ],
      "execution_count": null,
      "outputs": [
        {
          "output_type": "execute_result",
          "data": {
            "text/html": [
              "<div>\n",
              "<style scoped>\n",
              "    .dataframe tbody tr th:only-of-type {\n",
              "        vertical-align: middle;\n",
              "    }\n",
              "\n",
              "    .dataframe tbody tr th {\n",
              "        vertical-align: top;\n",
              "    }\n",
              "\n",
              "    .dataframe thead th {\n",
              "        text-align: right;\n",
              "    }\n",
              "</style>\n",
              "<table border=\"1\" class=\"dataframe\">\n",
              "  <thead>\n",
              "    <tr style=\"text-align: right;\">\n",
              "      <th></th>\n",
              "      <th>Issue</th>\n",
              "      <th>Customer Complaint</th>\n",
              "      <th>Dates</th>\n",
              "      <th>Month</th>\n",
              "      <th>Year</th>\n",
              "      <th>Time</th>\n",
              "      <th>Received Via</th>\n",
              "      <th>City</th>\n",
              "      <th>State</th>\n",
              "      <th>Zip code</th>\n",
              "      <th>New_Status</th>\n",
              "      <th>Open</th>\n",
              "      <th>Close</th>\n",
              "      <th>Filing on Behalf of Someone</th>\n",
              "    </tr>\n",
              "  </thead>\n",
              "  <tbody>\n",
              "    <tr>\n",
              "      <th>0</th>\n",
              "      <td>1.0</td>\n",
              "      <td>Comcast Cable Internet Speeds</td>\n",
              "      <td>22</td>\n",
              "      <td>Apr</td>\n",
              "      <td>15</td>\n",
              "      <td>3:53:50 PM</td>\n",
              "      <td>Customer Care Call</td>\n",
              "      <td>Abingdon</td>\n",
              "      <td>Maryland</td>\n",
              "      <td>21009</td>\n",
              "      <td>Close</td>\n",
              "      <td>0</td>\n",
              "      <td>1</td>\n",
              "      <td>No</td>\n",
              "    </tr>\n",
              "    <tr>\n",
              "      <th>1</th>\n",
              "      <td>1.0</td>\n",
              "      <td>Payment disappear - service got disconnected</td>\n",
              "      <td>4</td>\n",
              "      <td>Aug</td>\n",
              "      <td>15</td>\n",
              "      <td>10:22:56 AM</td>\n",
              "      <td>Internet</td>\n",
              "      <td>Acworth</td>\n",
              "      <td>Georgia</td>\n",
              "      <td>30102</td>\n",
              "      <td>Close</td>\n",
              "      <td>0</td>\n",
              "      <td>1</td>\n",
              "      <td>No</td>\n",
              "    </tr>\n",
              "    <tr>\n",
              "      <th>2</th>\n",
              "      <td>1.0</td>\n",
              "      <td>Speed and Service</td>\n",
              "      <td>18</td>\n",
              "      <td>Apr</td>\n",
              "      <td>15</td>\n",
              "      <td>9:55:47 AM</td>\n",
              "      <td>Internet</td>\n",
              "      <td>Acworth</td>\n",
              "      <td>Georgia</td>\n",
              "      <td>30101</td>\n",
              "      <td>Close</td>\n",
              "      <td>0</td>\n",
              "      <td>1</td>\n",
              "      <td>Yes</td>\n",
              "    </tr>\n",
              "    <tr>\n",
              "      <th>3</th>\n",
              "      <td>1.0</td>\n",
              "      <td>Comcast Imposed a New Usage Cap of 300GB that ...</td>\n",
              "      <td>5</td>\n",
              "      <td>Jul</td>\n",
              "      <td>15</td>\n",
              "      <td>11:59:35 AM</td>\n",
              "      <td>Internet</td>\n",
              "      <td>Acworth</td>\n",
              "      <td>Georgia</td>\n",
              "      <td>30101</td>\n",
              "      <td>open</td>\n",
              "      <td>1</td>\n",
              "      <td>0</td>\n",
              "      <td>Yes</td>\n",
              "    </tr>\n",
              "    <tr>\n",
              "      <th>4</th>\n",
              "      <td>1.0</td>\n",
              "      <td>Comcast not working and no service to boot</td>\n",
              "      <td>26</td>\n",
              "      <td>May</td>\n",
              "      <td>15</td>\n",
              "      <td>1:25:26 PM</td>\n",
              "      <td>Internet</td>\n",
              "      <td>Acworth</td>\n",
              "      <td>Georgia</td>\n",
              "      <td>30101</td>\n",
              "      <td>Close</td>\n",
              "      <td>0</td>\n",
              "      <td>1</td>\n",
              "      <td>No</td>\n",
              "    </tr>\n",
              "    <tr>\n",
              "      <th>...</th>\n",
              "      <td>...</td>\n",
              "      <td>...</td>\n",
              "      <td>...</td>\n",
              "      <td>...</td>\n",
              "      <td>...</td>\n",
              "      <td>...</td>\n",
              "      <td>...</td>\n",
              "      <td>...</td>\n",
              "      <td>...</td>\n",
              "      <td>...</td>\n",
              "      <td>...</td>\n",
              "      <td>...</td>\n",
              "      <td>...</td>\n",
              "      <td>...</td>\n",
              "    </tr>\n",
              "    <tr>\n",
              "      <th>2219</th>\n",
              "      <td>1.0</td>\n",
              "      <td>Service Availability</td>\n",
              "      <td>4</td>\n",
              "      <td>Feb</td>\n",
              "      <td>15</td>\n",
              "      <td>9:13:18 AM</td>\n",
              "      <td>Customer Care Call</td>\n",
              "      <td>Youngstown</td>\n",
              "      <td>Florida</td>\n",
              "      <td>32466</td>\n",
              "      <td>Close</td>\n",
              "      <td>0</td>\n",
              "      <td>1</td>\n",
              "      <td>No</td>\n",
              "    </tr>\n",
              "    <tr>\n",
              "      <th>2220</th>\n",
              "      <td>1.0</td>\n",
              "      <td>Comcast Monthly Billing for Returned Modem</td>\n",
              "      <td>6</td>\n",
              "      <td>Feb</td>\n",
              "      <td>15</td>\n",
              "      <td>1:24:39 PM</td>\n",
              "      <td>Customer Care Call</td>\n",
              "      <td>Ypsilanti</td>\n",
              "      <td>Michigan</td>\n",
              "      <td>48197</td>\n",
              "      <td>Close</td>\n",
              "      <td>0</td>\n",
              "      <td>1</td>\n",
              "      <td>No</td>\n",
              "    </tr>\n",
              "    <tr>\n",
              "      <th>2221</th>\n",
              "      <td>1.0</td>\n",
              "      <td>complaint about comcast</td>\n",
              "      <td>6</td>\n",
              "      <td>Sep</td>\n",
              "      <td>15</td>\n",
              "      <td>5:28:41 PM</td>\n",
              "      <td>Internet</td>\n",
              "      <td>Ypsilanti</td>\n",
              "      <td>Michigan</td>\n",
              "      <td>48197</td>\n",
              "      <td>Close</td>\n",
              "      <td>0</td>\n",
              "      <td>1</td>\n",
              "      <td>No</td>\n",
              "    </tr>\n",
              "    <tr>\n",
              "      <th>2222</th>\n",
              "      <td>1.0</td>\n",
              "      <td>Extremely unsatisfied Comcast customer</td>\n",
              "      <td>23</td>\n",
              "      <td>Jun</td>\n",
              "      <td>15</td>\n",
              "      <td>11:13:30 PM</td>\n",
              "      <td>Customer Care Call</td>\n",
              "      <td>Ypsilanti</td>\n",
              "      <td>Michigan</td>\n",
              "      <td>48197</td>\n",
              "      <td>Close</td>\n",
              "      <td>0</td>\n",
              "      <td>1</td>\n",
              "      <td>No</td>\n",
              "    </tr>\n",
              "    <tr>\n",
              "      <th>2223</th>\n",
              "      <td>1.0</td>\n",
              "      <td>Comcast, Ypsilanti MI Internet Speed</td>\n",
              "      <td>24</td>\n",
              "      <td>Jun</td>\n",
              "      <td>15</td>\n",
              "      <td>10:28:33 PM</td>\n",
              "      <td>Customer Care Call</td>\n",
              "      <td>Ypsilanti</td>\n",
              "      <td>Michigan</td>\n",
              "      <td>48198</td>\n",
              "      <td>open</td>\n",
              "      <td>1</td>\n",
              "      <td>0</td>\n",
              "      <td>Yes</td>\n",
              "    </tr>\n",
              "  </tbody>\n",
              "</table>\n",
              "<p>2224 rows × 14 columns</p>\n",
              "</div>"
            ],
            "text/plain": [
              "      Issue  ... Filing on Behalf of Someone\n",
              "0       1.0  ...                          No\n",
              "1       1.0  ...                          No\n",
              "2       1.0  ...                         Yes\n",
              "3       1.0  ...                         Yes\n",
              "4       1.0  ...                          No\n",
              "...     ...  ...                         ...\n",
              "2219    1.0  ...                          No\n",
              "2220    1.0  ...                          No\n",
              "2221    1.0  ...                          No\n",
              "2222    1.0  ...                          No\n",
              "2223    1.0  ...                         Yes\n",
              "\n",
              "[2224 rows x 14 columns]"
            ]
          },
          "metadata": {
            "tags": []
          },
          "execution_count": 30
        }
      ]
    },
    {
      "cell_type": "code",
      "metadata": {
        "id": "vUO3wc-zSCX2",
        "colab_type": "code",
        "colab": {
          "base_uri": "https://localhost:8080/",
          "height": 225
        },
        "outputId": "09cc39a3-98c4-4d92-ad15-f711972e5259"
      },
      "source": [
        "state_wise_analysis=data.groupby([\"State\"]).sum()\n",
        "state_wise_analysis.head()"
      ],
      "execution_count": null,
      "outputs": [
        {
          "output_type": "execute_result",
          "data": {
            "text/html": [
              "<div>\n",
              "<style scoped>\n",
              "    .dataframe tbody tr th:only-of-type {\n",
              "        vertical-align: middle;\n",
              "    }\n",
              "\n",
              "    .dataframe tbody tr th {\n",
              "        vertical-align: top;\n",
              "    }\n",
              "\n",
              "    .dataframe thead th {\n",
              "        text-align: right;\n",
              "    }\n",
              "</style>\n",
              "<table border=\"1\" class=\"dataframe\">\n",
              "  <thead>\n",
              "    <tr style=\"text-align: right;\">\n",
              "      <th></th>\n",
              "      <th>Issue</th>\n",
              "      <th>Dates</th>\n",
              "      <th>Zip code</th>\n",
              "      <th>Open</th>\n",
              "      <th>Close</th>\n",
              "    </tr>\n",
              "    <tr>\n",
              "      <th>State</th>\n",
              "      <th></th>\n",
              "      <th></th>\n",
              "      <th></th>\n",
              "      <th></th>\n",
              "      <th></th>\n",
              "    </tr>\n",
              "  </thead>\n",
              "  <tbody>\n",
              "    <tr>\n",
              "      <th>Alabama</th>\n",
              "      <td>26.0</td>\n",
              "      <td>436</td>\n",
              "      <td>898260</td>\n",
              "      <td>9</td>\n",
              "      <td>17</td>\n",
              "    </tr>\n",
              "    <tr>\n",
              "      <th>Arizona</th>\n",
              "      <td>20.0</td>\n",
              "      <td>419</td>\n",
              "      <td>1714671</td>\n",
              "      <td>6</td>\n",
              "      <td>14</td>\n",
              "    </tr>\n",
              "    <tr>\n",
              "      <th>Arkansas</th>\n",
              "      <td>6.0</td>\n",
              "      <td>88</td>\n",
              "      <td>433044</td>\n",
              "      <td>0</td>\n",
              "      <td>6</td>\n",
              "    </tr>\n",
              "    <tr>\n",
              "      <th>California</th>\n",
              "      <td>220.0</td>\n",
              "      <td>3848</td>\n",
              "      <td>20844238</td>\n",
              "      <td>61</td>\n",
              "      <td>159</td>\n",
              "    </tr>\n",
              "    <tr>\n",
              "      <th>Colorado</th>\n",
              "      <td>80.0</td>\n",
              "      <td>1506</td>\n",
              "      <td>6430155</td>\n",
              "      <td>22</td>\n",
              "      <td>58</td>\n",
              "    </tr>\n",
              "  </tbody>\n",
              "</table>\n",
              "</div>"
            ],
            "text/plain": [
              "            Issue  Dates  Zip code  Open  Close\n",
              "State                                          \n",
              "Alabama      26.0    436    898260     9     17\n",
              "Arizona      20.0    419   1714671     6     14\n",
              "Arkansas      6.0     88    433044     0      6\n",
              "California  220.0   3848  20844238    61    159\n",
              "Colorado     80.0   1506   6430155    22     58"
            ]
          },
          "metadata": {
            "tags": []
          },
          "execution_count": 31
        }
      ]
    },
    {
      "cell_type": "markdown",
      "metadata": {
        "id": "t4sHRJckSyX-",
        "colab_type": "text"
      },
      "source": [
        "**State Wise Complaint Status**"
      ]
    },
    {
      "cell_type": "code",
      "metadata": {
        "id": "gVjWBdV2SiPZ",
        "colab_type": "code",
        "colab": {}
      },
      "source": [
        "state=state_wise_analysis.index\n",
        "opn=state_wise_analysis.Open\n",
        "close=state_wise_analysis.Close"
      ],
      "execution_count": null,
      "outputs": []
    },
    {
      "cell_type": "code",
      "metadata": {
        "id": "9RB8EsCqVIrD",
        "colab_type": "code",
        "colab": {
          "base_uri": "https://localhost:8080/",
          "height": 131
        },
        "outputId": "91fbf10e-f974-41aa-f7d2-b00fbc272c5f"
      },
      "source": [
        "total_number_state=len(state)\n",
        "r=np.arange(total_number_state)\n",
        "fig = plt.gcf()\n",
        "barWidth=1\n",
        "fig.set_size_inches(100, 10)\n",
        "plt.bar(r, close, color=\"#006600\", edgecolor='white', width=barWidth)\n",
        "plt.bar(r, opn, bottom=close, color='red', edgecolor='white', width=barWidth)\n",
        "plt.xticks(r, (state))\n",
        "plt.show()\n"
      ],
      "execution_count": null,
      "outputs": [
        {
          "output_type": "display_data",
          "data": {
            "image/png": "[encoded data removed]",
            "text/plain": [
              "<Figure size 7200x720 with 1 Axes>"
            ]
          },
          "metadata": {
            "tags": [],
            "needs_background": "light"
          }
        }
      ]
    },
    {
      "cell_type": "markdown",
      "metadata": {
        "id": "fZ9OQlMzXYEc",
        "colab_type": "text"
      },
      "source": [
        "# **PLEASE NOTE:** I have taken a very large figure size as we have a large number of state in the data set, Please open the image in new tab for beeter visualization"
      ]
    },
    {
      "cell_type": "code",
      "metadata": {
        "id": "at1tmHTccned",
        "colab_type": "code",
        "colab": {}
      },
      "source": [
        ""
      ],
      "execution_count": null,
      "outputs": []
    },
    {
      "cell_type": "code",
      "metadata": {
        "id": "4iapegdIcnJN",
        "colab_type": "code",
        "colab": {}
      },
      "source": [
        ""
      ],
      "execution_count": null,
      "outputs": []
    },
    {
      "cell_type": "code",
      "metadata": {
        "id": "12UpEY7vYjgj",
        "colab_type": "code",
        "colab": {
          "base_uri": "https://localhost:8080/",
          "height": 809
        },
        "outputId": "699c3570-922d-42b7-b75a-2d09881355c3"
      },
      "source": [
        "state_wise_analysis.Issue.sort_values(ascending=False)"
      ],
      "execution_count": null,
      "outputs": [
        {
          "output_type": "execute_result",
          "data": {
            "text/plain": [
              "State\n",
              "Georgia                 288.0\n",
              "Florida                 240.0\n",
              "California              220.0\n",
              "Illinois                164.0\n",
              "Tennessee               143.0\n",
              "Pennsylvania            130.0\n",
              "Michigan                115.0\n",
              "Washington               98.0\n",
              "Colorado                 80.0\n",
              "Maryland                 78.0\n",
              "New Jersey               75.0\n",
              "Texas                    71.0\n",
              "Massachusetts            61.0\n",
              "Virginia                 60.0\n",
              "Indiana                  59.0\n",
              "Oregon                   49.0\n",
              "Mississippi              39.0\n",
              "Minnesota                33.0\n",
              "Alabama                  26.0\n",
              "Utah                     22.0\n",
              "Arizona                  20.0\n",
              "South Carolina           18.0\n",
              "District Of Columbia     16.0\n",
              "New Mexico               15.0\n",
              "Louisiana                13.0\n",
              "New Hampshire            12.0\n",
              "Connecticut              12.0\n",
              "Delaware                 12.0\n",
              "West Virginia            11.0\n",
              "Kentucky                  7.0\n",
              "New York                  6.0\n",
              "Arkansas                  6.0\n",
              "Maine                     5.0\n",
              "Missouri                  4.0\n",
              "North Carolina            3.0\n",
              "Vermont                   3.0\n",
              "Ohio                      3.0\n",
              "Kansas                    2.0\n",
              "District of Columbia      1.0\n",
              "Rhode Island              1.0\n",
              "Montana                   1.0\n",
              "Iowa                      1.0\n",
              "Nevada                    1.0\n",
              "Name: Issue, dtype: float64"
            ]
          },
          "metadata": {
            "tags": []
          },
          "execution_count": 34
        }
      ]
    },
    {
      "cell_type": "code",
      "metadata": {
        "id": "nPeMaAa7b5aI",
        "colab_type": "code",
        "colab": {
          "base_uri": "https://localhost:8080/",
          "height": 809
        },
        "outputId": "8baf572f-1f57-4b39-b971-ead089e1004d"
      },
      "source": [
        "state_wise_analysis.Open.sort_values(ascending=False)"
      ],
      "execution_count": null,
      "outputs": [
        {
          "output_type": "execute_result",
          "data": {
            "text/plain": [
              "State\n",
              "Georgia                 80\n",
              "California              61\n",
              "Tennessee               47\n",
              "Florida                 39\n",
              "Illinois                29\n",
              "Michigan                23\n",
              "Washington              23\n",
              "Texas                   22\n",
              "Colorado                22\n",
              "Pennsylvania            20\n",
              "New Jersey              19\n",
              "Mississippi             16\n",
              "Maryland                15\n",
              "Oregon                  13\n",
              "Massachusetts           11\n",
              "Virginia                11\n",
              "Indiana                  9\n",
              "Alabama                  9\n",
              "Utah                     6\n",
              "Arizona                  6\n",
              "Delaware                 4\n",
              "Minnesota                4\n",
              "New Mexico               4\n",
              "New Hampshire            4\n",
              "West Virginia            3\n",
              "South Carolina           3\n",
              "Kentucky                 3\n",
              "Connecticut              3\n",
              "Maine                    2\n",
              "District Of Columbia     2\n",
              "Vermont                  1\n",
              "Missouri                 1\n",
              "Kansas                   1\n",
              "Louisiana                1\n",
              "Montana                  0\n",
              "North Carolina           0\n",
              "District of Columbia     0\n",
              "Iowa                     0\n",
              "Ohio                     0\n",
              "Rhode Island             0\n",
              "Arkansas                 0\n",
              "Nevada                   0\n",
              "New York                 0\n",
              "Name: Open, dtype: int64"
            ]
          },
          "metadata": {
            "tags": []
          },
          "execution_count": 35
        }
      ]
    },
    {
      "cell_type": "code",
      "metadata": {
        "id": "OICAXO-McMjV",
        "colab_type": "code",
        "colab": {
          "base_uri": "https://localhost:8080/",
          "height": 809
        },
        "outputId": "26c519ad-2dd6-4ded-f954-e866e0558a4b"
      },
      "source": [
        "state_wise_analysis.Close.sort_values(ascending=False)"
      ],
      "execution_count": null,
      "outputs": [
        {
          "output_type": "execute_result",
          "data": {
            "text/plain": [
              "State\n",
              "Georgia                 208\n",
              "Florida                 201\n",
              "California              159\n",
              "Illinois                135\n",
              "Pennsylvania            110\n",
              "Tennessee                96\n",
              "Michigan                 92\n",
              "Washington               75\n",
              "Maryland                 63\n",
              "Colorado                 58\n",
              "New Jersey               56\n",
              "Indiana                  50\n",
              "Massachusetts            50\n",
              "Texas                    49\n",
              "Virginia                 49\n",
              "Oregon                   36\n",
              "Minnesota                29\n",
              "Mississippi              23\n",
              "Alabama                  17\n",
              "Utah                     16\n",
              "South Carolina           15\n",
              "Arizona                  14\n",
              "District Of Columbia     14\n",
              "Louisiana                12\n",
              "New Mexico               11\n",
              "Connecticut               9\n",
              "West Virginia             8\n",
              "New Hampshire             8\n",
              "Delaware                  8\n",
              "New York                  6\n",
              "Arkansas                  6\n",
              "Kentucky                  4\n",
              "Missouri                  3\n",
              "North Carolina            3\n",
              "Maine                     3\n",
              "Ohio                      3\n",
              "Vermont                   2\n",
              "Rhode Island              1\n",
              "District of Columbia      1\n",
              "Montana                   1\n",
              "Iowa                      1\n",
              "Kansas                    1\n",
              "Nevada                    1\n",
              "Name: Close, dtype: int64"
            ]
          },
          "metadata": {
            "tags": []
          },
          "execution_count": 36
        }
      ]
    },
    {
      "cell_type": "markdown",
      "metadata": {
        "id": "7F7Fnq-8YGaI",
        "colab_type": "text"
      },
      "source": [
        "As per the analysis the State **\"Georgia\"**  with total number of **288 cases** in which **80 cases are still open** and **208 are close**"
      ]
    },
    {
      "cell_type": "markdown",
      "metadata": {
        "id": "Z_ln0XHgcC57",
        "colab_type": "text"
      },
      "source": [
        "**FInding the percentage of resolved cases for each state**\n"
      ]
    },
    {
      "cell_type": "code",
      "metadata": {
        "id": "ajvq5w3xdb1k",
        "colab_type": "code",
        "colab": {
          "base_uri": "https://localhost:8080/",
          "height": 34
        },
        "outputId": "60c378c7-bea2-4672-8502-acbdce0e5f0a"
      },
      "source": [
        "total_number_case=sum(state_wise_analysis.Issue)\n",
        "total_number_case"
      ],
      "execution_count": null,
      "outputs": [
        {
          "output_type": "execute_result",
          "data": {
            "text/plain": [
              "2224.0"
            ]
          },
          "metadata": {
            "tags": []
          },
          "execution_count": 37
        }
      ]
    },
    {
      "cell_type": "code",
      "metadata": {
        "id": "cQn4pS7kTBze",
        "colab_type": "code",
        "colab": {}
      },
      "source": [
        "percentage_reolve_case_per_state=(state_wise_analysis.Open)/(state_wise_analysis.Issue)"
      ],
      "execution_count": null,
      "outputs": []
    },
    {
      "cell_type": "code",
      "metadata": {
        "id": "At1zoW2EUW7B",
        "colab_type": "code",
        "colab": {
          "base_uri": "https://localhost:8080/",
          "height": 809
        },
        "outputId": "dfad0da4-eba4-40ad-8c21-7ca22f61b089"
      },
      "source": [
        "percentage_reolve_case_per_state.sort_values(ascending=False)"
      ],
      "execution_count": null,
      "outputs": [
        {
          "output_type": "execute_result",
          "data": {
            "text/plain": [
              "State\n",
              "Kansas                  0.500000\n",
              "Kentucky                0.428571\n",
              "Mississippi             0.410256\n",
              "Maine                   0.400000\n",
              "Alabama                 0.346154\n",
              "New Hampshire           0.333333\n",
              "Vermont                 0.333333\n",
              "Delaware                0.333333\n",
              "Tennessee               0.328671\n",
              "Texas                   0.309859\n",
              "Arizona                 0.300000\n",
              "Georgia                 0.277778\n",
              "California              0.277273\n",
              "Colorado                0.275000\n",
              "West Virginia           0.272727\n",
              "Utah                    0.272727\n",
              "New Mexico              0.266667\n",
              "Oregon                  0.265306\n",
              "New Jersey              0.253333\n",
              "Connecticut             0.250000\n",
              "Missouri                0.250000\n",
              "Washington              0.234694\n",
              "Michigan                0.200000\n",
              "Maryland                0.192308\n",
              "Virginia                0.183333\n",
              "Massachusetts           0.180328\n",
              "Illinois                0.176829\n",
              "South Carolina          0.166667\n",
              "Florida                 0.162500\n",
              "Pennsylvania            0.153846\n",
              "Indiana                 0.152542\n",
              "District Of Columbia    0.125000\n",
              "Minnesota               0.121212\n",
              "Louisiana               0.076923\n",
              "Ohio                    0.000000\n",
              "District of Columbia    0.000000\n",
              "Rhode Island            0.000000\n",
              "North Carolina          0.000000\n",
              "New York                0.000000\n",
              "Montana                 0.000000\n",
              "Arkansas                0.000000\n",
              "Nevada                  0.000000\n",
              "Iowa                    0.000000\n",
              "dtype: float64"
            ]
          },
          "metadata": {
            "tags": []
          },
          "execution_count": 39
        }
      ]
    },
    {
      "cell_type": "markdown",
      "metadata": {
        "id": "7SHFf0KXe7AH",
        "colab_type": "text"
      },
      "source": [
        "As per the Analysis **Kansas** has highest unresolved case however **total number of unresolved case is 1** and total number of case is 2"
      ]
    },
    {
      "cell_type": "code",
      "metadata": {
        "id": "jH92v35VfVpF",
        "colab_type": "code",
        "colab": {}
      },
      "source": [
        ""
      ],
      "execution_count": null,
      "outputs": []
    },
    {
      "cell_type": "code",
      "metadata": {
        "id": "IW4YLpmqfmL3",
        "colab_type": "code",
        "colab": {}
      },
      "source": [
        ""
      ],
      "execution_count": null,
      "outputs": []
    },
    {
      "cell_type": "code",
      "metadata": {
        "id": "kdiw8q7MfmH2",
        "colab_type": "code",
        "colab": {
          "base_uri": "https://localhost:8080/",
          "height": 136
        },
        "outputId": "6e0919a8-95e5-4895-89b1-31d699f2c6ec"
      },
      "source": [
        "group_by_mode_communication=data.groupby([\"Received Via\"]).sum()\n",
        "group_by_mode_communication"
      ],
      "execution_count": null,
      "outputs": [
        {
          "output_type": "execute_result",
          "data": {
            "text/html": [
              "<div>\n",
              "<style scoped>\n",
              "    .dataframe tbody tr th:only-of-type {\n",
              "        vertical-align: middle;\n",
              "    }\n",
              "\n",
              "    .dataframe tbody tr th {\n",
              "        vertical-align: top;\n",
              "    }\n",
              "\n",
              "    .dataframe thead th {\n",
              "        text-align: right;\n",
              "    }\n",
              "</style>\n",
              "<table border=\"1\" class=\"dataframe\">\n",
              "  <thead>\n",
              "    <tr style=\"text-align: right;\">\n",
              "      <th></th>\n",
              "      <th>Issue</th>\n",
              "      <th>Dates</th>\n",
              "      <th>Zip code</th>\n",
              "      <th>Open</th>\n",
              "      <th>Close</th>\n",
              "    </tr>\n",
              "    <tr>\n",
              "      <th>Received Via</th>\n",
              "      <th></th>\n",
              "      <th></th>\n",
              "      <th></th>\n",
              "      <th></th>\n",
              "      <th></th>\n",
              "    </tr>\n",
              "  </thead>\n",
              "  <tbody>\n",
              "    <tr>\n",
              "      <th>Customer Care Call</th>\n",
              "      <td>1119.0</td>\n",
              "      <td>19566</td>\n",
              "      <td>53692043</td>\n",
              "      <td>255</td>\n",
              "      <td>864</td>\n",
              "    </tr>\n",
              "    <tr>\n",
              "      <th>Internet</th>\n",
              "      <td>1105.0</td>\n",
              "      <td>20093</td>\n",
              "      <td>53047488</td>\n",
              "      <td>262</td>\n",
              "      <td>843</td>\n",
              "    </tr>\n",
              "  </tbody>\n",
              "</table>\n",
              "</div>"
            ],
            "text/plain": [
              "                     Issue  Dates  Zip code  Open  Close\n",
              "Received Via                                            \n",
              "Customer Care Call  1119.0  19566  53692043   255    864\n",
              "Internet            1105.0  20093  53047488   262    843"
            ]
          },
          "metadata": {
            "tags": []
          },
          "execution_count": 40
        }
      ]
    },
    {
      "cell_type": "code",
      "metadata": {
        "id": "mB_A0_Aif_Yu",
        "colab_type": "code",
        "colab": {}
      },
      "source": [
        "total_number_case_reolved_CC=group_by_mode_communication.Close[0]\n",
        "total_number_case_CC=group_by_mode_communication.Issue[0]\n",
        "\n",
        "total_number_case_reolved_Internet=group_by_mode_communication.Close[1]\n",
        "total_number_case_Internet=group_by_mode_communication.Issue[1]"
      ],
      "execution_count": null,
      "outputs": []
    },
    {
      "cell_type": "code",
      "metadata": {
        "id": "XpEtCzLggYbq",
        "colab_type": "code",
        "colab": {}
      },
      "source": [
        "per_resoved_cc=(total_number_case_reolved_CC)/(total_number_case_CC)\n",
        "per_resoved_Internet=(total_number_case_reolved_Internet)/(total_number_case_Internet)"
      ],
      "execution_count": null,
      "outputs": []
    },
    {
      "cell_type": "code",
      "metadata": {
        "id": "mtXBodcLhEeC",
        "colab_type": "code",
        "colab": {
          "base_uri": "https://localhost:8080/",
          "height": 52
        },
        "outputId": "c2b516e7-b5b0-4b59-ae0e-44d69dccf1f5"
      },
      "source": [
        "print(\"Total \",per_resoved_cc*100,\" percentage of the case has been resloved yet which is received through the customer care calls\")\n",
        "print(\"Total \",per_resoved_Internet*100,\" percentage of the case has been resloved yet which is received through the Internet\")"
      ],
      "execution_count": null,
      "outputs": [
        {
          "output_type": "stream",
          "text": [
            "Total  77.21179624664879  percentage of the case has been resloved yet which is received through the customer care calls\n",
            "Total  76.289592760181  percentage of the case has been resloved yet which is received through the Internet\n"
          ],
          "name": "stdout"
        }
      ]
    },
    {
      "cell_type": "code",
      "metadata": {
        "id": "uyYidtgkiLpC",
        "colab_type": "code",
        "colab": {
          "base_uri": "https://localhost:8080/",
          "height": 374
        },
        "outputId": "9fbfaa38-5aa5-4d83-ec99-d8992ecf365f"
      },
      "source": [
        "total_way=2\n",
        "r=np.arange(total_way)\n",
        "fig = plt.gcf()\n",
        "total_close=group_by_mode_communication.Close\n",
        "total_resolved=group_by_mode_communication.Open\n",
        "fig.set_size_inches(4, 6)\n",
        "plt.bar(r, total_close, color=\"#006600\", edgecolor='white', width=barWidth)\n",
        "plt.bar(r, total_resolved, bottom=total_close, color='red', edgecolor='white', width=barWidth)\n",
        "plt.xticks(r, (\"Customer Care Call\",\"Internet\"))\n",
        "plt.show()"
      ],
      "execution_count": null,
      "outputs": [
        {
          "output_type": "display_data",
          "data": {
            "image/png": "[encoded data removed]",
            "text/plain": [
              "<Figure size 288x432 with 1 Axes>"
            ]
          },
          "metadata": {
            "tags": [],
            "needs_background": "light"
          }
        }
      ]
    },
    {
      "cell_type": "markdown",
      "metadata": {
        "id": "V2Mw-2uOk1OX",
        "colab_type": "text"
      },
      "source": [
        "Total  77.21179624664879  percentage of the case has been resloved yet which is received through the customer care calls\n",
        "\n",
        "\n",
        "Total  76.289592760181  percentage of the case has been resloved yet which is received through the Internet\n"
      ]
    },
    {
      "cell_type": "code",
      "metadata": {
        "id": "-QwWu6gwjryJ",
        "colab_type": "code",
        "colab": {}
      },
      "source": [
        ""
      ],
      "execution_count": null,
      "outputs": []
    }
  ]
}